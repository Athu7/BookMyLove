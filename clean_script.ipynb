{
 "cells": [
  {
   "cell_type": "code",
   "execution_count": 1,
   "metadata": {},
   "outputs": [],
   "source": [
    "import pandas as pd\n",
    "import numpy as np\n",
    "import requests\n",
    "from time import sleep"
   ]
  },
  {
   "cell_type": "code",
   "execution_count": 2,
   "metadata": {},
   "outputs": [],
   "source": [
    "from selenium import webdriver\n",
    "from selenium.webdriver.common.keys import Keys\n",
    "from selenium.webdriver.support import expected_conditions as EC\n",
    "from selenium.webdriver.common.by import By\n",
    "from selenium.webdriver.support.wait import WebDriverWait\n",
    "from tqdm import tqdm_notebook\n",
    "import time\n",
    "import json"
   ]
  },
  {
   "cell_type": "code",
   "execution_count": 3,
   "metadata": {},
   "outputs": [
    {
     "name": "stderr",
     "output_type": "stream",
     "text": [
      "<ipython-input-3-c4570a63d3ac>:3: DeprecationWarning: executable_path has been deprecated, please pass in a Service object\n",
      "  driver = webdriver.Chrome(path)\n"
     ]
    }
   ],
   "source": [
    "# Opening goodreads login page using webdriver\n",
    "path = \"F:\\Projects\\Book_genre\\chromedriver.exe\"\n",
    "driver = webdriver.Chrome(path)\n",
    "driver.get(\"https://www.goodreads.com/ap/signin?language=en_US&openid.assoc_handle=amzn_goodreads_web_na&openid.claimed_id=http%3A%2F%2Fspecs.openid.net%2Fauth%2F2.0%2Fidentifier_select&openid.identity=http%3A%2F%2Fspecs.openid.net%2Fauth%2F2.0%2Fidentifier_select&openid.mode=checkid_setup&openid.ns=http%3A%2F%2Fspecs.openid.net%2Fauth%2F2.0&openid.pape.max_auth_age=0&openid.return_to=https%3A%2F%2Fwww.goodreads.com%2Fap-handler%2Fsign-in&siteState=0f9c274b6c7fab00499d20d3e6082b8d\")"
   ]
  },
  {
   "cell_type": "code",
   "execution_count": 4,
   "metadata": {},
   "outputs": [],
   "source": [
    "# Login into goodreads\n",
    "password = \"atharva5\"\n",
    "user = \"athucool7@gmail.com\"\n",
    "userfield = driver.find_element(by = By.CSS_SELECTOR, value = \"input[type = 'email']\")\n",
    "passfield = driver.find_element(by = By.CSS_SELECTOR, value = \"input[type = 'password']\")\n",
    "userfield.send_keys(user)\n",
    "passfield.send_keys(password)\n",
    "driver.find_element(by = By.CSS_SELECTOR, value = \"input[id = 'signInSubmit']\").click()"
   ]
  },
  {
   "cell_type": "code",
   "execution_count": 5,
   "metadata": {},
   "outputs": [],
   "source": [
    "def BookScraper(link):\n",
    "    driver.get(link)\n",
    "    try:\n",
    "        driver.find_element(by = By.CSS_SELECTOR, value = \"a#rating_details\").text\n",
    "        title = driver.find_element(by = By.CSS_SELECTOR, value = \"h1#bookTitle\").text\n",
    "        rating = driver.find_element(by = By.CSS_SELECTOR, value = \"span[itemprop = 'ratingValue']\").text\n",
    "        name = driver.find_element(by = By.CSS_SELECTOR, value = \"a[class = 'authorName']\").text\n",
    "        num_ratings = driver.find_elements(by = By.CSS_SELECTOR, value  = \"a[href = '#other_reviews']\")[0].text[:-8]\n",
    "        num_reviews = driver.find_elements(by = By.CSS_SELECTOR, value  = \"a[href = '#other_reviews']\")[1].text[:-8]\n",
    "        num_followers = driver.find_element(by = By.CSS_SELECTOR, value  = \"div.bookAuthorProfile__followerCount\").text\n",
    "        try:\n",
    "            driver.find_element(by = By.CSS_SELECTOR, value = \"a[onclick = 'swapContent($(this));; return false;']\").click()\n",
    "        except:\n",
    "            synopsis =  driver.find_element(by = By.CSS_SELECTOR, value= \"div[id = 'description']\").text        \n",
    "        else:\n",
    "            synopsis =  driver.find_element(by = By.CSS_SELECTOR, value= \"div[id = 'description']\").text\n",
    "    except:\n",
    "        title = driver.find_element(by = By.CSS_SELECTOR, value = \"h1[class = 'Text Text__title1']\").text\n",
    "        rating = driver.find_element(by = By.CSS_SELECTOR, value = \"div[class = 'RatingStatistics__rating']\").text\n",
    "        name = driver.find_element(by = By.CSS_SELECTOR, value = \"span[class = 'ContributorLink__name']\").text\n",
    "        num_ratings = driver.find_element(by = By.CSS_SELECTOR, value= \"span[data-testid = 'ratingsCount']\").text[:-8]\n",
    "        num_reviews = driver.find_element(by = By.CSS_SELECTOR, value= \"span[data-testid = 'reviewsCount']\").text[:-8]\n",
    "        author_profile = driver.find_element(by = By.CSS_SELECTOR, value = \"div.AuthorPreview\")\n",
    "        num_followers = author_profile.find_element(by = By.CSS_SELECTOR, value = \"span.u-dot-before\").text[:-10]\n",
    "        try:\n",
    "            driver.find_element(by = By.CSS_SELECTOR, value = \"button[class = 'Button Button--inline Button--small']\").click()\n",
    "        except:\n",
    "            synopsis = driver.find_element(by = By.CSS_SELECTOR, value = \"div[data-testid = 'description']\").text    \n",
    "        else:\n",
    "            synopsis = driver.find_element(by = By.CSS_SELECTOR, value = \"div[data-testid = 'description']\").text\n",
    "    return [title, rating, name, num_ratings, num_reviews, num_followers, synopsis]\n",
    "    "
   ]
  },
  {
   "cell_type": "code",
   "execution_count": 20,
   "metadata": {},
   "outputs": [],
   "source": [
    "df = pd.DataFrame(columns=['title', 'rating', 'name', 'num_ratings', 'num_reviews','num_followers', 'synopsis'])"
   ]
  },
  {
   "cell_type": "code",
   "execution_count": 21,
   "metadata": {},
   "outputs": [
    {
     "name": "stderr",
     "output_type": "stream",
     "text": [
      "<ipython-input-21-7953812f040b>:3: TqdmDeprecationWarning: This function will be removed in tqdm==5.0.0\n",
      "Please use `tqdm.notebook.tqdm` instead of `tqdm.tqdm_notebook`\n",
      "  for i in tqdm_notebook(range(1, 3), total = 2, unit = 'page'):\n"
     ]
    },
    {
     "data": {
      "application/vnd.jupyter.widget-view+json": {
       "model_id": "f20d436ae3de4ee985a5734280c613af",
       "version_major": 2,
       "version_minor": 0
      },
      "text/plain": [
       "  0%|          | 0/2 [00:00<?, ?page/s]"
      ]
     },
     "metadata": {},
     "output_type": "display_data"
    },
    {
     "name": "stderr",
     "output_type": "stream",
     "text": [
      "<ipython-input-21-7953812f040b>:12: TqdmDeprecationWarning: This function will be removed in tqdm==5.0.0\n",
      "Please use `tqdm.notebook.tqdm` instead of `tqdm.tqdm_notebook`\n",
      "  for k in tqdm_notebook(range(len(book_links)), total = len(book_links), unit = \"book\"):\n"
     ]
    },
    {
     "data": {
      "application/vnd.jupyter.widget-view+json": {
       "model_id": "8e23de1ee943488cae91281f8ec56d84",
       "version_major": 2,
       "version_minor": 0
      },
      "text/plain": [
       "  0%|          | 0/50 [00:00<?, ?book/s]"
      ]
     },
     "metadata": {},
     "output_type": "display_data"
    },
    {
     "data": {
      "application/vnd.jupyter.widget-view+json": {
       "model_id": "7068f3db23854a9b95e4dc5562dd94b4",
       "version_major": 2,
       "version_minor": 0
      },
      "text/plain": [
       "  0%|          | 0/50 [00:00<?, ?book/s]"
      ]
     },
     "metadata": {},
     "output_type": "display_data"
    }
   ],
   "source": [
    "#for i in tqdm_notebook(range(epochs), total=epochs, unit=\"epoch\"):\n",
    "genre = 'horror'\n",
    "for i in tqdm_notebook(range(1, 3), total = 2, unit = 'page'):    \n",
    "    genrelink = \"https://www.goodreads.com/shelf/show/\" + genre + f\"?page={i}\"\n",
    "    driver.get(genrelink)\n",
    "    books = driver.find_elements(by = By.CSS_SELECTOR, value = \"a.bookTitle\")\n",
    "    data = []\n",
    "    book_links = []\n",
    "    for j in range(len(books)):\n",
    "        book_link = books[j].get_attribute('href')\n",
    "        book_links.append(book_link)\n",
    "    for k in tqdm_notebook(range(len(book_links)), total = len(book_links), unit = \"book\"):\n",
    "        out = BookScraper(book_links[k])    \n",
    "        df = df.append({'title' :out[0], 'rating' :out[1], 'name' :out[2], 'num_ratings' :out[3], 'num_reviews' :out[4],'num_followers' :out[5], 'synopsis' :out[6]}, ignore_index=True)"
   ]
  },
  {
   "cell_type": "code",
   "execution_count": 22,
   "metadata": {},
   "outputs": [],
   "source": [
    "df.to_csv(\"books_horror.csv\")"
   ]
  },
  {
   "cell_type": "code",
   "execution_count": 9,
   "metadata": {},
   "outputs": [],
   "source": [
    "author_profile = driver.find_element(by = By.CSS_SELECTOR, value = \"div.AuthorPreview\")\n",
    "num_followers = author_profile.find_element(by = By.CSS_SELECTOR, value = \"span.u-dot-before\").text[:-10]"
   ]
  },
  {
   "cell_type": "code",
   "execution_count": 10,
   "metadata": {},
   "outputs": [
    {
     "data": {
      "text/plain": [
       "selenium.webdriver.remote.webelement.WebElement"
      ]
     },
     "execution_count": 10,
     "metadata": {},
     "output_type": "execute_result"
    }
   ],
   "source": [
    "type(author_profile)"
   ]
  },
  {
   "cell_type": "code",
   "execution_count": 11,
   "metadata": {},
   "outputs": [
    {
     "name": "stdout",
     "output_type": "stream",
     "text": [
      "https://www.goodreads.com/shelf/show/travel?page=2\n",
      "https://www.goodreads.com/shelf/show/travel?page=3\n",
      "https://www.goodreads.com/shelf/show/travel?page=4\n",
      "https://www.goodreads.com/shelf/show/travel?page=5\n",
      "https://www.goodreads.com/shelf/show/travel?page=6\n",
      "https://www.goodreads.com/shelf/show/travel?page=7\n",
      "https://www.goodreads.com/shelf/show/travel?page=8\n",
      "https://www.goodreads.com/shelf/show/travel?page=9\n",
      "https://www.goodreads.com/shelf/show/travel?page=10\n"
     ]
    }
   ],
   "source": [
    "for i in range(2, 11):    \n",
    "    genrelink = \"https://www.goodreads.com/shelf/show/\" + genre + f\"?page={i}\"\n",
    "    print(genrelink)"
   ]
  },
  {
   "cell_type": "code",
   "execution_count": null,
   "metadata": {},
   "outputs": [],
   "source": []
  }
 ],
 "metadata": {
  "kernelspec": {
   "display_name": "Python 3.8.8 ('base')",
   "language": "python",
   "name": "python3"
  },
  "language_info": {
   "codemirror_mode": {
    "name": "ipython",
    "version": 3
   },
   "file_extension": ".py",
   "mimetype": "text/x-python",
   "name": "python",
   "nbconvert_exporter": "python",
   "pygments_lexer": "ipython3",
   "version": "3.8.8"
  },
  "orig_nbformat": 4,
  "vscode": {
   "interpreter": {
    "hash": "610a6f344c2137faf927ea819c63f6cee33a2c04455044b28099f39fe9722347"
   }
  }
 },
 "nbformat": 4,
 "nbformat_minor": 2
}
