{
 "cells": [
  {
   "cell_type": "code",
   "execution_count": 3,
   "metadata": {},
   "outputs": [],
   "source": [
    "import pandas as pd"
   ]
  },
  {
   "cell_type": "code",
   "execution_count": 4,
   "metadata": {},
   "outputs": [],
   "source": [
    "df_cookbooks = pd.read_csv(\"books_cookbooks.csv\", index_col = 0)\n",
    "df_fantasy = pd.read_csv(\"books_fantasy.csv\", index_col = 0)\n",
    "df_history = pd.read_csv(\"books_history.csv\", index_col = 0)\n",
    "df_horror = pd.read_csv(\"books_horror.csv\", index_col = 0)\n",
    "df_psychology = pd.read_csv(\"books_psychology.csv\", index_col = 0)\n",
    "df_romance = pd.read_csv(\"books_romance.csv\", index_col = 0)\n",
    "df_science_fiction = pd.read_csv(\"books_science_fiction.csv\", index_col = 0)\n",
    "df_science = pd.read_csv(\"books_science.csv\", index_col = 0)\n",
    "df_self_help = pd.read_csv(\"books_self-help.csv\", index_col = 0)\n",
    "df_sports = pd.read_csv(\"books_sports.csv\", index_col = 0)\n",
    "df_travel = pd.read_csv(\"books_travel.csv\", index_col = 0)\n",
    "df_thriller = pd.read_csv(\"books_thriller.csv\", index_col = 0)"
   ]
  },
  {
   "cell_type": "code",
   "execution_count": 5,
   "metadata": {},
   "outputs": [],
   "source": [
    "df = df_cookbooks.append(df_fantasy, ignore_index = True)"
   ]
  },
  {
   "cell_type": "code",
   "execution_count": 6,
   "metadata": {},
   "outputs": [],
   "source": [
    "df = df.append(df_history, ignore_index = True)"
   ]
  },
  {
   "cell_type": "code",
   "execution_count": 7,
   "metadata": {},
   "outputs": [],
   "source": [
    "df = df.append(df_horror, ignore_index = True)\n"
   ]
  },
  {
   "cell_type": "code",
   "execution_count": 8,
   "metadata": {},
   "outputs": [],
   "source": [
    "df = df.append(df_psychology, ignore_index = True)\n"
   ]
  },
  {
   "cell_type": "code",
   "execution_count": 9,
   "metadata": {},
   "outputs": [],
   "source": [
    "df = df.append(df_romance, ignore_index = True)\n"
   ]
  },
  {
   "cell_type": "code",
   "execution_count": 10,
   "metadata": {},
   "outputs": [],
   "source": [
    "df = df.append(df_science_fiction, ignore_index = True)\n"
   ]
  },
  {
   "cell_type": "code",
   "execution_count": 11,
   "metadata": {},
   "outputs": [],
   "source": [
    "df = df.append(df_science, ignore_index = True)\n"
   ]
  },
  {
   "cell_type": "code",
   "execution_count": 12,
   "metadata": {},
   "outputs": [],
   "source": [
    "df = df.append(df_self_help, ignore_index = True)\n"
   ]
  },
  {
   "cell_type": "code",
   "execution_count": 13,
   "metadata": {},
   "outputs": [],
   "source": [
    "df = df.append(df_sports, ignore_index = True)\n"
   ]
  },
  {
   "cell_type": "code",
   "execution_count": 14,
   "metadata": {},
   "outputs": [],
   "source": [
    "df = df.append(df_travel, ignore_index = True)\n"
   ]
  },
  {
   "cell_type": "code",
   "execution_count": 15,
   "metadata": {},
   "outputs": [],
   "source": [
    "df = df.append(df_thriller, ignore_index = True)"
   ]
  },
  {
   "cell_type": "code",
   "execution_count": null,
   "metadata": {},
   "outputs": [],
   "source": [
    "df.drop_duplicates(subset = 'title', ignore_index= True)"
   ]
  },
  {
   "cell_type": "code",
   "execution_count": 17,
   "metadata": {},
   "outputs": [
    {
     "data": {
      "text/plain": [
       "1614"
      ]
     },
     "execution_count": 17,
     "metadata": {},
     "output_type": "execute_result"
    }
   ],
   "source": [
    "len(df)"
   ]
  },
  {
   "cell_type": "code",
   "execution_count": 19,
   "metadata": {},
   "outputs": [],
   "source": [
    "df.to_csv(\"books_compiled2.csv\")"
   ]
  },
  {
   "cell_type": "code",
   "execution_count": 20,
   "metadata": {},
   "outputs": [],
   "source": [
    "import pandas as pd\n",
    "df = pd.read_csv('books_compiled.csv',index_col=False )"
   ]
  },
  {
   "cell_type": "code",
   "execution_count": 21,
   "metadata": {},
   "outputs": [
    {
     "data": {
      "text/plain": [
       "1657"
      ]
     },
     "execution_count": 21,
     "metadata": {},
     "output_type": "execute_result"
    }
   ],
   "source": [
    "len(df)"
   ]
  },
  {
   "cell_type": "code",
   "execution_count": 22,
   "metadata": {},
   "outputs": [
    {
     "data": {
      "text/html": [
       "<div>\n",
       "<style scoped>\n",
       "    .dataframe tbody tr th:only-of-type {\n",
       "        vertical-align: middle;\n",
       "    }\n",
       "\n",
       "    .dataframe tbody tr th {\n",
       "        vertical-align: top;\n",
       "    }\n",
       "\n",
       "    .dataframe thead th {\n",
       "        text-align: right;\n",
       "    }\n",
       "</style>\n",
       "<table border=\"1\" class=\"dataframe\">\n",
       "  <thead>\n",
       "    <tr style=\"text-align: right;\">\n",
       "      <th></th>\n",
       "      <th>title</th>\n",
       "      <th>rating</th>\n",
       "      <th>name</th>\n",
       "      <th>num_ratings</th>\n",
       "      <th>num_reviews</th>\n",
       "      <th>num_followers</th>\n",
       "      <th>synopsis</th>\n",
       "      <th>genre</th>\n",
       "      <th>Unnamed: 8</th>\n",
       "      <th>Unnamed: 9</th>\n",
       "      <th>Unnamed: 10</th>\n",
       "      <th>Unnamed: 11</th>\n",
       "      <th>Unnamed: 12</th>\n",
       "      <th>Unnamed: 13</th>\n",
       "      <th>Unnamed: 14</th>\n",
       "    </tr>\n",
       "  </thead>\n",
       "  <tbody>\n",
       "    <tr>\n",
       "      <th>0</th>\n",
       "      <td>Sapiens: A Brief History of Humankind</td>\n",
       "      <td>4.39</td>\n",
       "      <td>Yuval Noah Harari</td>\n",
       "      <td>8,06,229</td>\n",
       "      <td>46,149</td>\n",
       "      <td>30.5k</td>\n",
       "      <td>100,000 years ago, at least six human species ...</td>\n",
       "      <td>history</td>\n",
       "      <td>NaN</td>\n",
       "      <td>NaN</td>\n",
       "      <td>NaN</td>\n",
       "      <td>NaN</td>\n",
       "      <td>NaN</td>\n",
       "      <td>NaN</td>\n",
       "      <td>NaN</td>\n",
       "    </tr>\n",
       "    <tr>\n",
       "      <th>1</th>\n",
       "      <td>Guns, Germs, and Steel: The Fates of Human Soc...</td>\n",
       "      <td>4.04</td>\n",
       "      <td>Jared Diamond</td>\n",
       "      <td>3,67,056</td>\n",
       "      <td>12,879</td>\n",
       "      <td>6,538</td>\n",
       "      <td>\"Diamond has written a book of remarkable scop...</td>\n",
       "      <td>history</td>\n",
       "      <td>NaN</td>\n",
       "      <td>NaN</td>\n",
       "      <td>NaN</td>\n",
       "      <td>NaN</td>\n",
       "      <td>NaN</td>\n",
       "      <td>NaN</td>\n",
       "      <td>NaN</td>\n",
       "    </tr>\n",
       "    <tr>\n",
       "      <th>2</th>\n",
       "      <td>A People's History of the United States</td>\n",
       "      <td>4.07</td>\n",
       "      <td>Howard Zinn</td>\n",
       "      <td>2,24,620</td>\n",
       "      <td>6,509</td>\n",
       "      <td>2,354</td>\n",
       "      <td>In the book, Zinn presented a different side o...</td>\n",
       "      <td>history</td>\n",
       "      <td>NaN</td>\n",
       "      <td>NaN</td>\n",
       "      <td>NaN</td>\n",
       "      <td>NaN</td>\n",
       "      <td>NaN</td>\n",
       "      <td>NaN</td>\n",
       "      <td>NaN</td>\n",
       "    </tr>\n",
       "    <tr>\n",
       "      <th>3</th>\n",
       "      <td>The Devil in the White City: Murder, Magic, an...</td>\n",
       "      <td>3.99</td>\n",
       "      <td>Erik Larson</td>\n",
       "      <td>6,13,157</td>\n",
       "      <td>36,644</td>\n",
       "      <td>64.2k</td>\n",
       "      <td>Author Erik Larson imbues the incredible event...</td>\n",
       "      <td>history</td>\n",
       "      <td>NaN</td>\n",
       "      <td>NaN</td>\n",
       "      <td>NaN</td>\n",
       "      <td>NaN</td>\n",
       "      <td>NaN</td>\n",
       "      <td>NaN</td>\n",
       "      <td>NaN</td>\n",
       "    </tr>\n",
       "    <tr>\n",
       "      <th>4</th>\n",
       "      <td>The Diary of a Young Girl</td>\n",
       "      <td>4.18</td>\n",
       "      <td>Anne Frank</td>\n",
       "      <td>33,13,033</td>\n",
       "      <td>35,591</td>\n",
       "      <td>4,621</td>\n",
       "      <td>Discovered in the attic in which she spent the...</td>\n",
       "      <td>history</td>\n",
       "      <td>NaN</td>\n",
       "      <td>NaN</td>\n",
       "      <td>NaN</td>\n",
       "      <td>NaN</td>\n",
       "      <td>NaN</td>\n",
       "      <td>NaN</td>\n",
       "      <td>NaN</td>\n",
       "    </tr>\n",
       "  </tbody>\n",
       "</table>\n",
       "</div>"
      ],
      "text/plain": [
       "                                               title  rating  \\\n",
       "0              Sapiens: A Brief History of Humankind    4.39   \n",
       "1  Guns, Germs, and Steel: The Fates of Human Soc...    4.04   \n",
       "2            A People's History of the United States    4.07   \n",
       "3  The Devil in the White City: Murder, Magic, an...    3.99   \n",
       "4                          The Diary of a Young Girl    4.18   \n",
       "\n",
       "                name num_ratings num_reviews num_followers  \\\n",
       "0  Yuval Noah Harari    8,06,229      46,149         30.5k   \n",
       "1      Jared Diamond    3,67,056      12,879         6,538   \n",
       "2        Howard Zinn    2,24,620       6,509         2,354   \n",
       "3        Erik Larson    6,13,157      36,644         64.2k   \n",
       "4         Anne Frank   33,13,033      35,591         4,621   \n",
       "\n",
       "                                            synopsis    genre  Unnamed: 8  \\\n",
       "0  100,000 years ago, at least six human species ...  history         NaN   \n",
       "1  \"Diamond has written a book of remarkable scop...  history         NaN   \n",
       "2  In the book, Zinn presented a different side o...  history         NaN   \n",
       "3  Author Erik Larson imbues the incredible event...  history         NaN   \n",
       "4  Discovered in the attic in which she spent the...  history         NaN   \n",
       "\n",
       "   Unnamed: 9  Unnamed: 10  Unnamed: 11  Unnamed: 12  Unnamed: 13  Unnamed: 14  \n",
       "0         NaN          NaN          NaN          NaN          NaN          NaN  \n",
       "1         NaN          NaN          NaN          NaN          NaN          NaN  \n",
       "2         NaN          NaN          NaN          NaN          NaN          NaN  \n",
       "3         NaN          NaN          NaN          NaN          NaN          NaN  \n",
       "4         NaN          NaN          NaN          NaN          NaN          NaN  "
      ]
     },
     "execution_count": 22,
     "metadata": {},
     "output_type": "execute_result"
    }
   ],
   "source": [
    "df.head()"
   ]
  },
  {
   "cell_type": "code",
   "execution_count": 23,
   "metadata": {},
   "outputs": [],
   "source": [
    "df.drop_duplicates(subset = 'title', inplace = True, ignore_index=True, )"
   ]
  },
  {
   "cell_type": "code",
   "execution_count": 24,
   "metadata": {},
   "outputs": [
    {
     "data": {
      "text/plain": [
       "Index(['title', 'rating', 'name', 'num_ratings', 'num_reviews',\n",
       "       'num_followers', 'synopsis', 'genre', 'Unnamed: 8', 'Unnamed: 9',\n",
       "       'Unnamed: 10', 'Unnamed: 11', 'Unnamed: 12', 'Unnamed: 13',\n",
       "       'Unnamed: 14'],\n",
       "      dtype='object')"
      ]
     },
     "execution_count": 24,
     "metadata": {},
     "output_type": "execute_result"
    }
   ],
   "source": [
    "df.columns"
   ]
  },
  {
   "cell_type": "code",
   "execution_count": 25,
   "metadata": {},
   "outputs": [],
   "source": [
    "df.drop(columns = ['Unnamed: 8', 'Unnamed: 9',\n",
    "       'Unnamed: 10', 'Unnamed: 11', 'Unnamed: 12', 'Unnamed: 13',\n",
    "       'Unnamed: 14'], inplace = True)"
   ]
  },
  {
   "cell_type": "code",
   "execution_count": 26,
   "metadata": {},
   "outputs": [
    {
     "data": {
      "text/html": [
       "<div>\n",
       "<style scoped>\n",
       "    .dataframe tbody tr th:only-of-type {\n",
       "        vertical-align: middle;\n",
       "    }\n",
       "\n",
       "    .dataframe tbody tr th {\n",
       "        vertical-align: top;\n",
       "    }\n",
       "\n",
       "    .dataframe thead th {\n",
       "        text-align: right;\n",
       "    }\n",
       "</style>\n",
       "<table border=\"1\" class=\"dataframe\">\n",
       "  <thead>\n",
       "    <tr style=\"text-align: right;\">\n",
       "      <th></th>\n",
       "      <th>title</th>\n",
       "      <th>rating</th>\n",
       "      <th>name</th>\n",
       "      <th>num_ratings</th>\n",
       "      <th>num_reviews</th>\n",
       "      <th>num_followers</th>\n",
       "      <th>synopsis</th>\n",
       "      <th>genre</th>\n",
       "    </tr>\n",
       "  </thead>\n",
       "  <tbody>\n",
       "    <tr>\n",
       "      <th>0</th>\n",
       "      <td>Sapiens: A Brief History of Humankind</td>\n",
       "      <td>4.39</td>\n",
       "      <td>Yuval Noah Harari</td>\n",
       "      <td>8,06,229</td>\n",
       "      <td>46,149</td>\n",
       "      <td>30.5k</td>\n",
       "      <td>100,000 years ago, at least six human species ...</td>\n",
       "      <td>history</td>\n",
       "    </tr>\n",
       "    <tr>\n",
       "      <th>1</th>\n",
       "      <td>Guns, Germs, and Steel: The Fates of Human Soc...</td>\n",
       "      <td>4.04</td>\n",
       "      <td>Jared Diamond</td>\n",
       "      <td>3,67,056</td>\n",
       "      <td>12,879</td>\n",
       "      <td>6,538</td>\n",
       "      <td>\"Diamond has written a book of remarkable scop...</td>\n",
       "      <td>history</td>\n",
       "    </tr>\n",
       "    <tr>\n",
       "      <th>2</th>\n",
       "      <td>A People's History of the United States</td>\n",
       "      <td>4.07</td>\n",
       "      <td>Howard Zinn</td>\n",
       "      <td>2,24,620</td>\n",
       "      <td>6,509</td>\n",
       "      <td>2,354</td>\n",
       "      <td>In the book, Zinn presented a different side o...</td>\n",
       "      <td>history</td>\n",
       "    </tr>\n",
       "    <tr>\n",
       "      <th>3</th>\n",
       "      <td>The Devil in the White City: Murder, Magic, an...</td>\n",
       "      <td>3.99</td>\n",
       "      <td>Erik Larson</td>\n",
       "      <td>6,13,157</td>\n",
       "      <td>36,644</td>\n",
       "      <td>64.2k</td>\n",
       "      <td>Author Erik Larson imbues the incredible event...</td>\n",
       "      <td>history</td>\n",
       "    </tr>\n",
       "    <tr>\n",
       "      <th>4</th>\n",
       "      <td>The Diary of a Young Girl</td>\n",
       "      <td>4.18</td>\n",
       "      <td>Anne Frank</td>\n",
       "      <td>33,13,033</td>\n",
       "      <td>35,591</td>\n",
       "      <td>4,621</td>\n",
       "      <td>Discovered in the attic in which she spent the...</td>\n",
       "      <td>history</td>\n",
       "    </tr>\n",
       "  </tbody>\n",
       "</table>\n",
       "</div>"
      ],
      "text/plain": [
       "                                               title  rating  \\\n",
       "0              Sapiens: A Brief History of Humankind    4.39   \n",
       "1  Guns, Germs, and Steel: The Fates of Human Soc...    4.04   \n",
       "2            A People's History of the United States    4.07   \n",
       "3  The Devil in the White City: Murder, Magic, an...    3.99   \n",
       "4                          The Diary of a Young Girl    4.18   \n",
       "\n",
       "                name num_ratings num_reviews num_followers  \\\n",
       "0  Yuval Noah Harari    8,06,229      46,149         30.5k   \n",
       "1      Jared Diamond    3,67,056      12,879         6,538   \n",
       "2        Howard Zinn    2,24,620       6,509         2,354   \n",
       "3        Erik Larson    6,13,157      36,644         64.2k   \n",
       "4         Anne Frank   33,13,033      35,591         4,621   \n",
       "\n",
       "                                            synopsis    genre  \n",
       "0  100,000 years ago, at least six human species ...  history  \n",
       "1  \"Diamond has written a book of remarkable scop...  history  \n",
       "2  In the book, Zinn presented a different side o...  history  \n",
       "3  Author Erik Larson imbues the incredible event...  history  \n",
       "4  Discovered in the attic in which she spent the...  history  "
      ]
     },
     "execution_count": 26,
     "metadata": {},
     "output_type": "execute_result"
    }
   ],
   "source": [
    "df.head()"
   ]
  },
  {
   "cell_type": "code",
   "execution_count": 27,
   "metadata": {},
   "outputs": [
    {
     "data": {
      "text/plain": [
       "thriller           481\n",
       "fantasy            348\n",
       "romance            111\n",
       "horror             100\n",
       "history             99\n",
       "psychology          99\n",
       "travel              98\n",
       "science             79\n",
       "sports              79\n",
       "science_fiction     45\n",
       "Name: genre, dtype: int64"
      ]
     },
     "execution_count": 27,
     "metadata": {},
     "output_type": "execute_result"
    }
   ],
   "source": [
    "df['genre'].value_counts()"
   ]
  },
  {
   "cell_type": "code",
   "execution_count": 28,
   "metadata": {},
   "outputs": [],
   "source": [
    "df.to_csv('data.csv')"
   ]
  },
  {
   "cell_type": "code",
   "execution_count": null,
   "metadata": {},
   "outputs": [],
   "source": []
  }
 ],
 "metadata": {
  "kernelspec": {
   "display_name": "Python 3.9.7 64-bit",
   "language": "python",
   "name": "python3"
  },
  "language_info": {
   "codemirror_mode": {
    "name": "ipython",
    "version": 3
   },
   "file_extension": ".py",
   "mimetype": "text/x-python",
   "name": "python",
   "nbconvert_exporter": "python",
   "pygments_lexer": "ipython3",
   "version": "3.9.7"
  },
  "orig_nbformat": 4,
  "vscode": {
   "interpreter": {
    "hash": "4cff3abf1678755e0069fd79299a535fe1940bcd71a6b01d9f4386710b2b163f"
   }
  }
 },
 "nbformat": 4,
 "nbformat_minor": 2
}
